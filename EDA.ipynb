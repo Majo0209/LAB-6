{
 "cells": [
  {
   "cell_type": "code",
   "execution_count": 73,
   "id": "9bb77fb4",
   "metadata": {},
   "outputs": [],
   "source": [
    "import pandas as pd"
   ]
  },
  {
   "cell_type": "code",
   "execution_count": 74,
   "id": "3bf07514",
   "metadata": {},
   "outputs": [],
   "source": [
    "df = pd.read_csv('data/fact_sales.csv')"
   ]
  },
  {
   "cell_type": "code",
   "execution_count": 75,
   "id": "50240f0e",
   "metadata": {},
   "outputs": [
    {
     "name": "stdout",
     "output_type": "stream",
     "text": [
      "<class 'pandas.core.frame.DataFrame'>\n",
      "RangeIndex: 800 entries, 0 to 799\n",
      "Data columns (total 13 columns):\n",
      " #   Column            Non-Null Count  Dtype \n",
      "---  ------            --------------  ----- \n",
      " 0   customer_id       800 non-null    int64 \n",
      " 1   purchase_date     800 non-null    object\n",
      " 2   product_category  800 non-null    object\n",
      " 3   amount            800 non-null    object\n",
      " 4   transaction_id    800 non-null    int64 \n",
      " 5   full_name         800 non-null    object\n",
      " 6   email             800 non-null    object\n",
      " 7   phone             800 non-null    object\n",
      " 8   address           800 non-null    object\n",
      " 9   signup_date       800 non-null    object\n",
      " 10  name              800 non-null    object\n",
      " 11  gender            800 non-null    object\n",
      " 12  age               800 non-null    object\n",
      "dtypes: int64(2), object(11)\n",
      "memory usage: 81.4+ KB\n"
     ]
    }
   ],
   "source": [
    "df.info()"
   ]
  },
  {
   "cell_type": "code",
   "execution_count": 76,
   "id": "f52331c4",
   "metadata": {},
   "outputs": [
    {
     "name": "stdout",
     "output_type": "stream",
     "text": [
      "Empty DataFrame\n",
      "Columns: [transaction_id, count, percentage]\n",
      "Index: []\n"
     ]
    }
   ],
   "source": [
    "# Total de filas\n",
    "total = len(df)\n",
    "\n",
    "# Tabla de frecuencias\n",
    "customer_freq = df[\"transaction_id\"].value_counts().reset_index()\n",
    "customer_freq.columns = [\"transaction_id\", \"count\"]\n",
    "customer_freq[\"percentage\"] = (customer_freq[\"count\"] / total) * 100\n",
    "\n",
    "# Filtrar los que están duplicados (más de 1 aparición)\n",
    "duplicates = customer_freq[customer_freq[\"count\"] > 1]\n",
    "\n",
    "print(duplicates)"
   ]
  },
  {
   "cell_type": "code",
   "execution_count": 77,
   "id": "a6699151",
   "metadata": {},
   "outputs": [
    {
     "name": "stdout",
     "output_type": "stream",
     "text": [
      "Registros con edades inválidas después de limpieza:\n",
      "Empty DataFrame\n",
      "Columns: [customer_id, purchase_date, product_category, amount, transaction_id, full_name, email, phone, address, signup_date, name, gender, age]\n",
      "Index: []\n"
     ]
    }
   ],
   "source": [
    "# Crear una copia numérica temporal de la edad\n",
    "age_num = pd.to_numeric(df[\"age\"], errors=\"coerce\")\n",
    "\n",
    "# Filtrar los registros que no cumplen el rango\n",
    "fuera_rango = df[\n",
    "    (age_num.notna()) &  # solo filas con valor numérico\n",
    "    ((age_num < 13) | (age_num > 120))\n",
    "]\n",
    "\n",
    "print(\"Registros con edades inválidas después de limpieza:\")\n",
    "print(fuera_rango)"
   ]
  },
  {
   "cell_type": "code",
   "execution_count": 78,
   "id": "9cd81766",
   "metadata": {},
   "outputs": [
    {
     "name": "stdout",
     "output_type": "stream",
     "text": [
      "Registros con edad = 150:\n",
      "Empty DataFrame\n",
      "Columns: [customer_id, purchase_date, product_category, amount, transaction_id, full_name, email, phone, address, signup_date, name, gender, age]\n",
      "Index: []\n"
     ]
    }
   ],
   "source": [
    "# Buscar registros con edad = 150\n",
    "edades_150 = df[df[\"age\"] == \"150\"]\n",
    "\n",
    "print(\"Registros con edad = 150:\")\n",
    "print(edades_150)"
   ]
  },
  {
   "cell_type": "code",
   "execution_count": 79,
   "id": "8ab1f05b",
   "metadata": {},
   "outputs": [
    {
     "name": "stdout",
     "output_type": "stream",
     "text": [
      "=== Filas con emails duplicados en Fact Sales (sin 'No especificado') ===\n",
      "Empty DataFrame\n",
      "Columns: [customer_id, purchase_date, product_category, amount, transaction_id, full_name, email, phone, address, signup_date, name, gender, age]\n",
      "Index: []\n",
      "\n",
      "=== Filas con phones duplicados en Fact Sales (sin 'No especificado') ===\n",
      "Empty DataFrame\n",
      "Columns: [customer_id, purchase_date, product_category, amount, transaction_id, full_name, email, phone, address, signup_date, name, gender, age]\n",
      "Index: []\n"
     ]
    }
   ],
   "source": [
    "# --- Filas con emails duplicados (excluyendo \"No especificado\") ---\n",
    "rows_email_dupes = df[\n",
    "    (df[\"email\"].notna()) &\n",
    "    (df[\"email\"] != \"No especificado\") &\n",
    "    (df.duplicated(subset=[\"email\"], keep=False))\n",
    "]\n",
    "\n",
    "print(\"=== Filas con emails duplicados en Fact Sales (sin 'No especificado') ===\")\n",
    "print(rows_email_dupes.sort_values(\"email\").head(50))  # primeras 50 filas\n",
    "\n",
    "# --- Filas con phones duplicados (excluyendo \"No especificado\") ---\n",
    "rows_phone_dupes = df[\n",
    "    (df[\"phone\"].notna()) &\n",
    "    (df[\"phone\"] != \"No especificado\") &\n",
    "    (df.duplicated(subset=[\"phone\"], keep=False))\n",
    "]\n",
    "\n",
    "print(\"\\n=== Filas con phones duplicados en Fact Sales (sin 'No especificado') ===\")\n",
    "print(rows_phone_dupes.sort_values(\"phone\").head(50))  # primeras 50 filas"
   ]
  },
  {
   "cell_type": "code",
   "execution_count": 80,
   "id": "fa829c08",
   "metadata": {},
   "outputs": [
    {
     "name": "stdout",
     "output_type": "stream",
     "text": [
      "Empty DataFrame\n",
      "Columns: [customer_id, purchase_date, product_category, amount, transaction_id, full_name, email, phone, address, signup_date, name, gender, age]\n",
      "Index: []\n"
     ]
    }
   ],
   "source": [
    "print(rows_phone_dupes.sort_values(\"phone\").head(5)) "
   ]
  },
  {
   "cell_type": "code",
   "execution_count": 81,
   "id": "97912320",
   "metadata": {},
   "outputs": [
    {
     "name": "stdout",
     "output_type": "stream",
     "text": [
      "Registros con mismo cliente/transacción pero diferente amount:\n",
      "Empty DataFrame\n",
      "Columns: [customer_id, purchase_date, product_category, full_name, amount]\n",
      "Index: []\n"
     ]
    }
   ],
   "source": [
    "# Agrupar por claves de unicidad (sin amount)\n",
    "duplicados_amount = (\n",
    "    df.groupby([\"customer_id\", \"purchase_date\", \"product_category\", \"full_name\"])\n",
    "    [\"amount\"]\n",
    "    .nunique()\n",
    "    .reset_index()\n",
    ")\n",
    "\n",
    "# Filtrar los grupos con más de 1 valor único de amount\n",
    "diferentes_amount = duplicados_amount[duplicados_amount[\"amount\"] > 1]\n",
    "\n",
    "print(\"Registros con mismo cliente/transacción pero diferente amount:\")\n",
    "print(diferentes_amount)\n"
   ]
  },
  {
   "cell_type": "code",
   "execution_count": 82,
   "id": "856b8dca",
   "metadata": {},
   "outputs": [
    {
     "name": "stdout",
     "output_type": "stream",
     "text": [
      "Empty DataFrame\n",
      "Columns: [customer_id, purchase_date, product_category, amount, transaction_id, full_name, email, phone, address, signup_date, name, gender, age]\n",
      "Index: []\n"
     ]
    }
   ],
   "source": [
    "ids_conflictivos = diferentes_amount[\n",
    "    [\"customer_id\", \"purchase_date\", \"product_category\", \"full_name\"]\n",
    "]\n",
    "\n",
    "conflictos = df.merge(ids_conflictivos, on=[\"customer_id\", \"purchase_date\", \"product_category\", \"full_name\"])\n",
    "\n",
    "print(conflictos)\n"
   ]
  },
  {
   "cell_type": "code",
   "execution_count": null,
   "id": "1017350b",
   "metadata": {},
   "outputs": [],
   "source": []
  }
 ],
 "metadata": {
  "kernelspec": {
   "display_name": "venv",
   "language": "python",
   "name": "python3"
  },
  "language_info": {
   "codemirror_mode": {
    "name": "ipython",
    "version": 3
   },
   "file_extension": ".py",
   "mimetype": "text/x-python",
   "name": "python",
   "nbconvert_exporter": "python",
   "pygments_lexer": "ipython3",
   "version": "3.13.3"
  }
 },
 "nbformat": 4,
 "nbformat_minor": 5
}
